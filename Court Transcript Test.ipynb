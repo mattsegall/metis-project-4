{
 "cells": [
  {
   "cell_type": "code",
   "execution_count": null,
   "id": "consecutive-article",
   "metadata": {},
   "outputs": [],
   "source": []
  },
  {
   "cell_type": "code",
   "execution_count": 4,
   "id": "absolute-rescue",
   "metadata": {},
   "outputs": [],
   "source": [
    "import os\n",
    "try:\n",
    "    user_paths = os.environ['PYTHONPATH'].split(os.pathsep)\n",
    "except KeyError:\n",
    "    user_paths = []"
   ]
  },
  {
   "cell_type": "code",
   "execution_count": 5,
   "id": "local-poultry",
   "metadata": {},
   "outputs": [
    {
     "name": "stdout",
     "output_type": "stream",
     "text": [
      "['/Users/user/Desktop/Metis/Projects/metis-project-4', '/opt/anaconda3/envs/metis/lib/python38.zip', '/opt/anaconda3/envs/metis/lib/python3.8', '/opt/anaconda3/envs/metis/lib/python3.8/lib-dynload', '', '/opt/anaconda3/envs/metis/lib/python3.8/site-packages', '/opt/anaconda3/envs/metis/lib/python3.8/site-packages/IPython/extensions', '/Users/user/.ipython']\n"
     ]
    }
   ],
   "source": [
    "import sys\n",
    "print(sys.path)"
   ]
  },
  {
   "cell_type": "code",
   "execution_count": 6,
   "id": "exterior-single",
   "metadata": {},
   "outputs": [],
   "source": [
    "sys.path.append(\"/Library/Frameworks/Python.framework/Versions/3.9/lib/python3.9/site-packages\")"
   ]
  },
  {
   "cell_type": "code",
   "execution_count": 7,
   "id": "prospective-financing",
   "metadata": {},
   "outputs": [],
   "source": [
    "import convokit\n",
    "import nltk"
   ]
  },
  {
   "cell_type": "code",
   "execution_count": 8,
   "id": "intellectual-medicine",
   "metadata": {},
   "outputs": [],
   "source": [
    "from convokit import Corpus, download"
   ]
  },
  {
   "cell_type": "code",
   "execution_count": 15,
   "id": "incident-modem",
   "metadata": {},
   "outputs": [],
   "source": [
    "corpus = Corpus('/Users/user/.convokit/downloads/supreme-corpus')"
   ]
  },
  {
   "cell_type": "code",
   "execution_count": 16,
   "id": "continent-placement",
   "metadata": {},
   "outputs": [
    {
     "name": "stdout",
     "output_type": "stream",
     "text": [
      "Number of Speakers: 8979\n",
      "Number of Utterances: 1700789\n",
      "Number of Conversations: 7817\n"
     ]
    }
   ],
   "source": [
    "corpus.print_summary_stats()"
   ]
  },
  {
   "cell_type": "code",
   "execution_count": 17,
   "id": "sapphire-agreement",
   "metadata": {},
   "outputs": [
    {
     "data": {
      "text/plain": [
       "Utterance({'obj_type': 'utterance', 'meta': {'case_id': '1978_78-160', 'start_times': [1356.387, 1362.017, 1370.879, 1395.366, 1430.686, 1443.15, 1455.991, 1459.307, 1461.526, 1475.806, 1482.802, 1491.217, 1500.57, 1503.454, 1506.328, 1509.049, 1523.68, 1535.877], 'stop_times': [1362.017, 1370.879, 1395.366, 1430.686, 1443.15, 1455.991, 1459.307, 1461.526, 1475.806, 1482.802, 1491.217, 1500.57, 1503.454, 1506.328, 1509.049, 1523.68, 1535.877, 1550.85], 'speaker_type': 'A', 'side': 1, 'timestamp': 1356.387}, 'vectors': [], 'speaker': Speaker({'obj_type': 'speaker', 'meta': {'name': 'Edson Smith', 'type': 'A'}, 'vectors': [], 'owner': <convokit.model.corpus.Corpus object at 0x19f2642b0>, 'id': 'edson_smith'}), 'conversation_id': '17159', 'reply_to': '17159__0_101', 'timestamp': None, 'text': \"Well, if it's this property, why, then that's one thing.\\nIf it's other property formerly occupying that area under the sky, that's something else again.\\nBut, the point I was about to make with regard to that clause is that, even assuming that it's the same property, the Court of Appeals here assumed that the Indian would make out the presumption of present title simply by showing previous possession or ownership.\\nAnd, what I'm saying is that that doesn't follow because “whenever” doesn't mean “always” and “whenever” calls into application here the presumption of a continuance of the existence of a condition or state of facts, and that's a presumption that is not applied in all cases but only where the circumstances are such as to show the likelihood of the continuation of that state of facts or condition.\\nAnd, in this case, the con-- the circumstances are such that the Indian couldn't possibly make out a presumption of ownership because the land has been on the Iowa side of the river for 48-- 85 years.\\nThe defendants and their predecessors, their title, have been in possession of it for at least 40 years and they've cultivated it, leveled it.\\nThey've cleared with the trees.\\nThey've put in loads in culverts.\\nThey had such possession as to give them title by adverse possession four times over because the statute of limitations of Iowa and Nebraska both are 10 years if those statutes applied.\\nThey don't apply and they still have strong presumption which would be the basis of application of those statues to which they apply.\\nUnder those circumstances, the Indians could not make out a presumption of title in himself.\\nFinally, on this subject, the words “burden of proof” themselves call for construction.\\nThat is an ambiguous turn that has two meanings.\\nIt may mean burden of going forward with the evidence.\\nIt may mean risk of a non-persuasion.\\nThe Court of Appeals construed it to mean risk of non-persuasion and that, so interpreted, it makes out of Section 194 an invidious racial discrimination.\\nIt takes the right person's property and gives it to the Indian solely on the basis of race construing it, however, to mean burden of going forward with the evidence.\\nIt has no such devastating effect on the White person's rights and such a construction could save the constitutionality of the statue for whatever that's worth.\", 'owner': <convokit.model.corpus.Corpus object at 0x19f2642b0>, 'id': '17159__0_102'})"
      ]
     },
     "execution_count": 17,
     "metadata": {},
     "output_type": "execute_result"
    }
   ],
   "source": [
    "random_utt = corpus.random_utterance()\n",
    "random_utt"
   ]
  },
  {
   "cell_type": "code",
   "execution_count": 18,
   "id": "allied-violin",
   "metadata": {},
   "outputs": [
    {
     "data": {
      "text/plain": [
       "\"Well, if it's this property, why, then that's one thing.\\nIf it's other property formerly occupying that area under the sky, that's something else again.\\nBut, the point I was about to make with regard to that clause is that, even assuming that it's the same property, the Court of Appeals here assumed that the Indian would make out the presumption of present title simply by showing previous possession or ownership.\\nAnd, what I'm saying is that that doesn't follow because “whenever” doesn't mean “always” and “whenever” calls into application here the presumption of a continuance of the existence of a condition or state of facts, and that's a presumption that is not applied in all cases but only where the circumstances are such as to show the likelihood of the continuation of that state of facts or condition.\\nAnd, in this case, the con-- the circumstances are such that the Indian couldn't possibly make out a presumption of ownership because the land has been on the Iowa side of the river for 48-- 85 years.\\nThe defendants and their predecessors, their title, have been in possession of it for at least 40 years and they've cultivated it, leveled it.\\nThey've cleared with the trees.\\nThey've put in loads in culverts.\\nThey had such possession as to give them title by adverse possession four times over because the statute of limitations of Iowa and Nebraska both are 10 years if those statutes applied.\\nThey don't apply and they still have strong presumption which would be the basis of application of those statues to which they apply.\\nUnder those circumstances, the Indians could not make out a presumption of title in himself.\\nFinally, on this subject, the words “burden of proof” themselves call for construction.\\nThat is an ambiguous turn that has two meanings.\\nIt may mean burden of going forward with the evidence.\\nIt may mean risk of a non-persuasion.\\nThe Court of Appeals construed it to mean risk of non-persuasion and that, so interpreted, it makes out of Section 194 an invidious racial discrimination.\\nIt takes the right person's property and gives it to the Indian solely on the basis of race construing it, however, to mean burden of going forward with the evidence.\\nIt has no such devastating effect on the White person's rights and such a construction could save the constitutionality of the statue for whatever that's worth.\""
      ]
     },
     "execution_count": 18,
     "metadata": {},
     "output_type": "execute_result"
    }
   ],
   "source": [
    "random_utt.text"
   ]
  },
  {
   "cell_type": "code",
   "execution_count": 19,
   "id": "fuzzy-possible",
   "metadata": {},
   "outputs": [
    {
     "data": {
      "text/plain": [
       "{'case_id': '1978_78-160',\n",
       " 'start_times': [1356.387,\n",
       "  1362.017,\n",
       "  1370.879,\n",
       "  1395.366,\n",
       "  1430.686,\n",
       "  1443.15,\n",
       "  1455.991,\n",
       "  1459.307,\n",
       "  1461.526,\n",
       "  1475.806,\n",
       "  1482.802,\n",
       "  1491.217,\n",
       "  1500.57,\n",
       "  1503.454,\n",
       "  1506.328,\n",
       "  1509.049,\n",
       "  1523.68,\n",
       "  1535.877],\n",
       " 'stop_times': [1362.017,\n",
       "  1370.879,\n",
       "  1395.366,\n",
       "  1430.686,\n",
       "  1443.15,\n",
       "  1455.991,\n",
       "  1459.307,\n",
       "  1461.526,\n",
       "  1475.806,\n",
       "  1482.802,\n",
       "  1491.217,\n",
       "  1500.57,\n",
       "  1503.454,\n",
       "  1506.328,\n",
       "  1509.049,\n",
       "  1523.68,\n",
       "  1535.877,\n",
       "  1550.85],\n",
       " 'speaker_type': 'A',\n",
       " 'side': 1,\n",
       " 'timestamp': 1356.387}"
      ]
     },
     "execution_count": 19,
     "metadata": {},
     "output_type": "execute_result"
    }
   ],
   "source": [
    "random_utt.meta"
   ]
  },
  {
   "cell_type": "code",
   "execution_count": 20,
   "id": "proprietary-renewal",
   "metadata": {},
   "outputs": [
    {
     "data": {
      "text/plain": [
       "Conversation({'obj_type': 'conversation', 'meta': {'case_id': '1956_240', 'advocates': {'james_o_bean': {'side': 3, 'role': 'inferred'}, 'charles_l_cobb': {'side': 3, 'role': 'inferred'}}, 'win_side': 1, 'votes_side': {'j__earl_warren': 1, 'j__hugo_l_black': 1, 'j__felix_frankfurter': 0, 'j__william_o_douglas': 1, 'j__harold_burton': 0, 'j__tom_c_clark': 1, 'j__john_m_harlan2': 0, 'j__william_j_brennan_jr': 1, 'j__charles_e_whittaker': 0}}, 'vectors': [], 'tree': None, 'owner': <convokit.model.corpus.Corpus object at 0x19f2642b0>, 'id': '13222'})"
      ]
     },
     "execution_count": 20,
     "metadata": {},
     "output_type": "execute_result"
    }
   ],
   "source": [
    "random_convo = corpus.random_conversation()\n",
    "random_convo"
   ]
  },
  {
   "cell_type": "code",
   "execution_count": 21,
   "id": "regional-principal",
   "metadata": {},
   "outputs": [
    {
     "data": {
      "text/plain": [
       "{'case_id': '1956_240',\n",
       " 'advocates': {'james_o_bean': {'side': 3, 'role': 'inferred'},\n",
       "  'charles_l_cobb': {'side': 3, 'role': 'inferred'}},\n",
       " 'win_side': 1,\n",
       " 'votes_side': {'j__earl_warren': 1,\n",
       "  'j__hugo_l_black': 1,\n",
       "  'j__felix_frankfurter': 0,\n",
       "  'j__william_o_douglas': 1,\n",
       "  'j__harold_burton': 0,\n",
       "  'j__tom_c_clark': 1,\n",
       "  'j__john_m_harlan2': 0,\n",
       "  'j__william_j_brennan_jr': 1,\n",
       "  'j__charles_e_whittaker': 0}}"
      ]
     },
     "execution_count": 21,
     "metadata": {},
     "output_type": "execute_result"
    }
   ],
   "source": [
    "random_convo.meta"
   ]
  },
  {
   "cell_type": "code",
   "execution_count": 22,
   "id": "inside-organization",
   "metadata": {},
   "outputs": [],
   "source": [
    "utt = corpus.random_utterance()\n",
    "utt_txt = utt.text"
   ]
  },
  {
   "cell_type": "code",
   "execution_count": 23,
   "id": "removed-bowling",
   "metadata": {},
   "outputs": [],
   "source": [
    "from nltk.tokenize import word_tokenize"
   ]
  },
  {
   "cell_type": "code",
   "execution_count": 24,
   "id": "prerequisite-nigeria",
   "metadata": {},
   "outputs": [
    {
     "data": {
      "text/plain": [
       "'Well, I tried to answer you by saying that I can think of no distinction if there is a delinquency procedure --'"
      ]
     },
     "execution_count": 24,
     "metadata": {},
     "output_type": "execute_result"
    }
   ],
   "source": [
    "utt_txt"
   ]
  },
  {
   "cell_type": "code",
   "execution_count": 25,
   "id": "mature-haven",
   "metadata": {},
   "outputs": [
    {
     "data": {
      "text/plain": [
       "['Well',\n",
       " ',',\n",
       " 'I',\n",
       " 'tried',\n",
       " 'to',\n",
       " 'answer',\n",
       " 'you',\n",
       " 'by',\n",
       " 'saying',\n",
       " 'that',\n",
       " 'I',\n",
       " 'can',\n",
       " 'think',\n",
       " 'of',\n",
       " 'no',\n",
       " 'distinction',\n",
       " 'if',\n",
       " 'there',\n",
       " 'is',\n",
       " 'a',\n",
       " 'delinquency',\n",
       " 'procedure',\n",
       " '--']"
      ]
     },
     "execution_count": 25,
     "metadata": {},
     "output_type": "execute_result"
    }
   ],
   "source": [
    "word_tokenize(utt_txt)"
   ]
  },
  {
   "cell_type": "code",
   "execution_count": 26,
   "id": "productive-hormone",
   "metadata": {},
   "outputs": [
    {
     "name": "stderr",
     "output_type": "stream",
     "text": [
      "[nltk_data] Downloading package punkt to /Users/user/nltk_data...\n",
      "[nltk_data]   Package punkt is already up-to-date!\n"
     ]
    },
    {
     "data": {
      "text/plain": [
       "True"
      ]
     },
     "execution_count": 26,
     "metadata": {},
     "output_type": "execute_result"
    }
   ],
   "source": [
    "import nltk\n",
    "nltk.download('punkt')"
   ]
  },
  {
   "cell_type": "code",
   "execution_count": 27,
   "id": "exact-mustang",
   "metadata": {},
   "outputs": [],
   "source": [
    "from nltk.tokenize import sent_tokenize"
   ]
  },
  {
   "cell_type": "code",
   "execution_count": 28,
   "id": "innovative-growth",
   "metadata": {},
   "outputs": [
    {
     "data": {
      "text/plain": [
       "['Well, I tried to answer you by saying that I can think of no distinction if there is a delinquency procedure --']"
      ]
     },
     "execution_count": 28,
     "metadata": {},
     "output_type": "execute_result"
    }
   ],
   "source": [
    "sent_tokenize(utt_txt)"
   ]
  },
  {
   "cell_type": "code",
   "execution_count": 30,
   "id": "another-blame",
   "metadata": {},
   "outputs": [],
   "source": [
    "from convokit import Corpus, download"
   ]
  },
  {
   "cell_type": "code",
   "execution_count": 31,
   "id": "finnish-process",
   "metadata": {},
   "outputs": [],
   "source": [
    "utt = corpus.get_utterance('24929__0_000')"
   ]
  },
  {
   "cell_type": "code",
   "execution_count": 32,
   "id": "outside-language",
   "metadata": {},
   "outputs": [
    {
     "data": {
      "text/plain": [
       "Utterance({'obj_type': 'utterance', 'meta': {'case_id': '2019_18-877', 'start_times': [0.0], 'stop_times': [6.84], 'speaker_type': 'J', 'side': None, 'timestamp': 0.0}, 'vectors': [], 'speaker': Speaker({'obj_type': 'speaker', 'meta': {'name': 'John G. Roberts, Jr.', 'type': 'J', 'role': 'justice'}, 'vectors': [], 'owner': <convokit.model.corpus.Corpus object at 0x19f2642b0>, 'id': 'j__john_g_roberts_jr'}), 'conversation_id': '24929', 'reply_to': None, 'timestamp': None, 'text': \"We'll hear argument next in Case 18-877, Allen versus Cooper. Mr. Shaffer.\", 'owner': <convokit.model.corpus.Corpus object at 0x19f2642b0>, 'id': '24929__0_000'})"
      ]
     },
     "execution_count": 32,
     "metadata": {},
     "output_type": "execute_result"
    }
   ],
   "source": [
    "utt"
   ]
  },
  {
   "cell_type": "code",
   "execution_count": 33,
   "id": "comfortable-brake",
   "metadata": {},
   "outputs": [
    {
     "data": {
      "text/plain": [
       "\"We'll hear argument next in Case 18-877, Allen versus Cooper. Mr. Shaffer.\""
      ]
     },
     "execution_count": 33,
     "metadata": {},
     "output_type": "execute_result"
    }
   ],
   "source": [
    "utt.text"
   ]
  },
  {
   "cell_type": "code",
   "execution_count": 34,
   "id": "extensive-overview",
   "metadata": {},
   "outputs": [],
   "source": [
    "from convokit import prompt_types"
   ]
  },
  {
   "cell_type": "code",
   "execution_count": 35,
   "id": "subtle-article",
   "metadata": {},
   "outputs": [],
   "source": [
    "from convokit import convoKitMatrix"
   ]
  },
  {
   "cell_type": "code",
   "execution_count": 36,
   "id": "designed-matter",
   "metadata": {},
   "outputs": [],
   "source": [
    "from convokit import BoWTransformer"
   ]
  },
  {
   "cell_type": "code",
   "execution_count": 37,
   "id": "stable-certification",
   "metadata": {},
   "outputs": [
    {
     "name": "stdout",
     "output_type": "stream",
     "text": [
      "Initializing default unigram CountVectorizer...Done.\n"
     ]
    }
   ],
   "source": [
    "bow_transformer = BoWTransformer(obj_type=\"utterance\", vector_name='bow')"
   ]
  },
  {
   "cell_type": "code",
   "execution_count": 38,
   "id": "regular-tunnel",
   "metadata": {},
   "outputs": [
    {
     "data": {
      "text/plain": [
       "<convokit.model.corpus.Corpus at 0x19f2642b0>"
      ]
     },
     "execution_count": 38,
     "metadata": {},
     "output_type": "execute_result"
    }
   ],
   "source": [
    "bow_transformer.fit_transform(corpus)"
   ]
  },
  {
   "cell_type": "code",
   "execution_count": 39,
   "id": "limited-sigma",
   "metadata": {},
   "outputs": [
    {
     "data": {
      "text/plain": [
       "Utterance({'obj_type': 'utterance', 'meta': {'case_id': '2019_18-877', 'start_times': [0.0], 'stop_times': [6.84], 'speaker_type': 'J', 'side': None, 'timestamp': 0.0}, 'vectors': ['bow'], 'speaker': Speaker({'obj_type': 'speaker', 'meta': {'name': 'John G. Roberts, Jr.', 'type': 'J', 'role': 'justice'}, 'vectors': [], 'owner': <convokit.model.corpus.Corpus object at 0x19f2642b0>, 'id': 'j__john_g_roberts_jr'}), 'conversation_id': '24929', 'reply_to': None, 'timestamp': None, 'text': \"We'll hear argument next in Case 18-877, Allen versus Cooper. Mr. Shaffer.\", 'owner': <convokit.model.corpus.Corpus object at 0x19f2642b0>, 'id': '24929__0_000'})"
      ]
     },
     "execution_count": 39,
     "metadata": {},
     "output_type": "execute_result"
    }
   ],
   "source": [
    "utt"
   ]
  },
  {
   "cell_type": "code",
   "execution_count": 46,
   "id": "agreed-qualification",
   "metadata": {},
   "outputs": [],
   "source": [
    "utt_vec = utt.get_vector('bow', as_dataframe=True)"
   ]
  },
  {
   "cell_type": "code",
   "execution_count": 47,
   "id": "sixth-queens",
   "metadata": {},
   "outputs": [
    {
     "data": {
      "text/html": [
       "<div>\n",
       "<style scoped>\n",
       "    .dataframe tbody tr th:only-of-type {\n",
       "        vertical-align: middle;\n",
       "    }\n",
       "\n",
       "    .dataframe tbody tr th {\n",
       "        vertical-align: top;\n",
       "    }\n",
       "\n",
       "    .dataframe thead th {\n",
       "        text-align: right;\n",
       "    }\n",
       "</style>\n",
       "<table border=\"1\" class=\"dataframe\">\n",
       "  <thead>\n",
       "    <tr style=\"text-align: right;\">\n",
       "      <th></th>\n",
       "      <th>00</th>\n",
       "      <th>000</th>\n",
       "      <th>01</th>\n",
       "      <th>02</th>\n",
       "      <th>03</th>\n",
       "      <th>04</th>\n",
       "      <th>05</th>\n",
       "      <th>06</th>\n",
       "      <th>07</th>\n",
       "      <th>08</th>\n",
       "      <th>...</th>\n",
       "      <th>zerbst</th>\n",
       "      <th>zero</th>\n",
       "      <th>zimmer</th>\n",
       "      <th>zimmerman</th>\n",
       "      <th>zipes</th>\n",
       "      <th>zone</th>\n",
       "      <th>zoned</th>\n",
       "      <th>zones</th>\n",
       "      <th>zoning</th>\n",
       "      <th>zwickler</th>\n",
       "    </tr>\n",
       "  </thead>\n",
       "  <tbody>\n",
       "    <tr>\n",
       "      <th>24929__0_000</th>\n",
       "      <td>0</td>\n",
       "      <td>0</td>\n",
       "      <td>0</td>\n",
       "      <td>0</td>\n",
       "      <td>0</td>\n",
       "      <td>0</td>\n",
       "      <td>0</td>\n",
       "      <td>0</td>\n",
       "      <td>0</td>\n",
       "      <td>0</td>\n",
       "      <td>...</td>\n",
       "      <td>0</td>\n",
       "      <td>0</td>\n",
       "      <td>0</td>\n",
       "      <td>0</td>\n",
       "      <td>0</td>\n",
       "      <td>0</td>\n",
       "      <td>0</td>\n",
       "      <td>0</td>\n",
       "      <td>0</td>\n",
       "      <td>0</td>\n",
       "    </tr>\n",
       "  </tbody>\n",
       "</table>\n",
       "<p>1 rows × 15000 columns</p>\n",
       "</div>"
      ],
      "text/plain": [
       "              00  000  01  02  03  04  05  06  07  08  ...  zerbst  zero  \\\n",
       "24929__0_000   0    0   0   0   0   0   0   0   0   0  ...       0     0   \n",
       "\n",
       "              zimmer  zimmerman  zipes  zone  zoned  zones  zoning  zwickler  \n",
       "24929__0_000       0          0      0     0      0      0       0         0  \n",
       "\n",
       "[1 rows x 15000 columns]"
      ]
     },
     "execution_count": 47,
     "metadata": {},
     "output_type": "execute_result"
    }
   ],
   "source": [
    "utt_vec "
   ]
  },
  {
   "cell_type": "code",
   "execution_count": 41,
   "id": "minor-judge",
   "metadata": {},
   "outputs": [],
   "source": [
    "bow_matrix = corpus.get_vector_matrix('bow')"
   ]
  },
  {
   "cell_type": "code",
   "execution_count": 42,
   "id": "prescribed-toilet",
   "metadata": {},
   "outputs": [
    {
     "data": {
      "text/plain": [
       "ConvoKitMatrix('name': bow, 'matrix': <1700789x15000 sparse matrix of type '<class 'numpy.int64'>'\n",
       "\twith 40506881 stored elements in Compressed Sparse Row format>)"
      ]
     },
     "execution_count": 42,
     "metadata": {},
     "output_type": "execute_result"
    }
   ],
   "source": [
    "bow_matrix"
   ]
  },
  {
   "cell_type": "code",
   "execution_count": null,
   "id": "capable-cattle",
   "metadata": {},
   "outputs": [],
   "source": []
  },
  {
   "cell_type": "code",
   "execution_count": null,
   "id": "viral-nudist",
   "metadata": {},
   "outputs": [],
   "source": []
  }
 ],
 "metadata": {
  "kernelspec": {
   "display_name": "Python [conda env:metis] *",
   "language": "python",
   "name": "conda-env-metis-py"
  },
  "language_info": {
   "codemirror_mode": {
    "name": "ipython",
    "version": 3
   },
   "file_extension": ".py",
   "mimetype": "text/x-python",
   "name": "python",
   "nbconvert_exporter": "python",
   "pygments_lexer": "ipython3",
   "version": "3.8.6"
  }
 },
 "nbformat": 4,
 "nbformat_minor": 5
}
