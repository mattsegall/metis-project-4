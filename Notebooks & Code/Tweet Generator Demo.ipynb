{
 "cells": [
  {
   "cell_type": "code",
   "execution_count": 21,
   "id": "built-frank",
   "metadata": {},
   "outputs": [],
   "source": [
    "import sys"
   ]
  },
  {
   "cell_type": "code",
   "execution_count": 22,
   "id": "honest-delivery",
   "metadata": {},
   "outputs": [],
   "source": [
    "sys.path.append(\"/Library/Frameworks/Python.framework/Versions/3.9/lib/python3.9/site-packages\")"
   ]
  },
  {
   "cell_type": "code",
   "execution_count": 23,
   "id": "smooth-weight",
   "metadata": {},
   "outputs": [],
   "source": [
    "from fastai.text import *"
   ]
  },
  {
   "cell_type": "code",
   "execution_count": 24,
   "id": "focused-female",
   "metadata": {},
   "outputs": [],
   "source": [
    "def trump_tweet_predict(starter, n):\n",
    "    x = load_learner('', '/Users/user/desktop/metis/projects/metis-project-4/models/trump_tweet_gen.pkl')\n",
    "    result = x.predict(starter, n, temperature=0.75)\n",
    "    return print(result)"
   ]
  },
  {
   "cell_type": "markdown",
   "id": "clinical-drink",
   "metadata": {},
   "source": [
    "##  Tweet Generator Examples ##"
   ]
  },
  {
   "cell_type": "code",
   "execution_count": 27,
   "id": "lined-expense",
   "metadata": {},
   "outputs": [
    {
     "data": {
      "text/html": [],
      "text/plain": [
       "<IPython.core.display.HTML object>"
      ]
     },
     "metadata": {},
     "output_type": "display_data"
    },
    {
     "data": {
      "text/html": [],
      "text/plain": [
       "<IPython.core.display.HTML object>"
      ]
     },
     "metadata": {},
     "output_type": "display_data"
    },
    {
     "name": "stdout",
     "output_type": "stream",
     "text": [
      "I think CNN is weak on Democrat Senator John Bel Edwards and his Democrat partner Trump\n"
     ]
    }
   ],
   "source": [
    "trump_tweet_predict('I think CNN is', 20)"
   ]
  },
  {
   "cell_type": "code",
   "execution_count": 128,
   "id": "suitable-treaty",
   "metadata": {},
   "outputs": [
    {
     "data": {
      "text/html": [],
      "text/plain": [
       "<IPython.core.display.HTML object>"
      ]
     },
     "metadata": {},
     "output_type": "display_data"
    },
    {
     "data": {
      "text/html": [],
      "text/plain": [
       "<IPython.core.display.HTML object>"
      ]
     },
     "metadata": {},
     "output_type": "display_data"
    },
    {
     "name": "stdout",
     "output_type": "stream",
     "text": [
      "I think Fox News is a very professional operation like the Wall Street Journal Its indeed SP Media has\n"
     ]
    }
   ],
   "source": [
    "trump_tweet_predict('I think Fox News is', 20)"
   ]
  },
  {
   "cell_type": "code",
   "execution_count": 54,
   "id": "sensitive-candle",
   "metadata": {},
   "outputs": [
    {
     "data": {
      "text/html": [],
      "text/plain": [
       "<IPython.core.display.HTML object>"
      ]
     },
     "metadata": {},
     "output_type": "display_data"
    },
    {
     "data": {
      "text/html": [],
      "text/plain": [
       "<IPython.core.display.HTML object>"
      ]
     },
     "metadata": {},
     "output_type": "display_data"
    },
    {
     "name": "stdout",
     "output_type": "stream",
     "text": [
      "Russia has worked hard for long time to protect Russia and Russia The Russian Collusion Hoax\n"
     ]
    }
   ],
   "source": [
    "trump_tweet_predict('Russia has', 20)"
   ]
  },
  {
   "cell_type": "code",
   "execution_count": 60,
   "id": "ordinary-grain",
   "metadata": {},
   "outputs": [
    {
     "data": {
      "text/html": [],
      "text/plain": [
       "<IPython.core.display.HTML object>"
      ]
     },
     "metadata": {},
     "output_type": "display_data"
    },
    {
     "data": {
      "text/html": [],
      "text/plain": [
       "<IPython.core.display.HTML object>"
      ]
     },
     "metadata": {},
     "output_type": "display_data"
    },
    {
     "name": "stdout",
     "output_type": "stream",
     "text": [
      "The Mueller Report is considered a disaster It is a JOKE that the Mueller Report was a joke Home\n"
     ]
    }
   ],
   "source": [
    "trump_tweet_predict('The Mueller Report is', 20)"
   ]
  },
  {
   "cell_type": "code",
   "execution_count": 73,
   "id": "informative-louisiana",
   "metadata": {},
   "outputs": [
    {
     "data": {
      "text/html": [],
      "text/plain": [
       "<IPython.core.display.HTML object>"
      ]
     },
     "metadata": {},
     "output_type": "display_data"
    },
    {
     "data": {
      "text/html": [],
      "text/plain": [
       "<IPython.core.display.HTML object>"
      ]
     },
     "metadata": {},
     "output_type": "display_data"
    },
    {
     "name": "stdout",
     "output_type": "stream",
     "text": [
      "The Impeachment Hoax is a ongoing scandal when the FBI is doing so poorly as any Dems in the\n"
     ]
    }
   ],
   "source": [
    "trump_tweet_predict('The Impeachment', 20)"
   ]
  },
  {
   "cell_type": "code",
   "execution_count": 75,
   "id": "relevant-outline",
   "metadata": {},
   "outputs": [
    {
     "data": {
      "text/html": [],
      "text/plain": [
       "<IPython.core.display.HTML object>"
      ]
     },
     "metadata": {},
     "output_type": "display_data"
    },
    {
     "data": {
      "text/html": [],
      "text/plain": [
       "<IPython.core.display.HTML object>"
      ]
     },
     "metadata": {},
     "output_type": "display_data"
    },
    {
     "name": "stdout",
     "output_type": "stream",
     "text": [
      "Hilary Clinton is a drug lords who is very responsible for the massive Russia attacks of backing Clinton Foundation\n"
     ]
    }
   ],
   "source": [
    "trump_tweet_predict('Hilary Clinton is', 20)"
   ]
  },
  {
   "cell_type": "code",
   "execution_count": 123,
   "id": "threatened-effort",
   "metadata": {},
   "outputs": [
    {
     "data": {
      "text/html": [],
      "text/plain": [
       "<IPython.core.display.HTML object>"
      ]
     },
     "metadata": {},
     "output_type": "display_data"
    },
    {
     "data": {
      "text/html": [],
      "text/plain": [
       "<IPython.core.display.HTML object>"
      ]
     },
     "metadata": {},
     "output_type": "display_data"
    },
    {
     "name": "stdout",
     "output_type": "stream",
     "text": [
      "I am a victim of a terrible Witch Hunt During my tenure No Pressure was used by the United\n"
     ]
    }
   ],
   "source": [
    "trump_tweet_predict('I am a victim of', 20)"
   ]
  },
  {
   "cell_type": "markdown",
   "id": "young-syntax",
   "metadata": {},
   "source": [
    "##  Tweet Generator DEMO ##"
   ]
  },
  {
   "cell_type": "code",
   "execution_count": 287,
   "id": "italian-disposal",
   "metadata": {},
   "outputs": [
    {
     "data": {
      "text/html": [],
      "text/plain": [
       "<IPython.core.display.HTML object>"
      ]
     },
     "metadata": {},
     "output_type": "display_data"
    },
    {
     "data": {
      "text/html": [],
      "text/plain": [
       "<IPython.core.display.HTML object>"
      ]
     },
     "metadata": {},
     "output_type": "display_data"
    },
    {
     "name": "stdout",
     "output_type": "stream",
     "text": [
      "it is a hoax that would end many years of the Witch Hunt and it has been suggested that if Pelosi was\n"
     ]
    }
   ],
   "source": [
    "trump_tweet_predict('it is a hoax that', 20)"
   ]
  },
  {
   "cell_type": "raw",
   "id": "contained-cherry",
   "metadata": {},
   "source": []
  },
  {
   "cell_type": "code",
   "execution_count": null,
   "id": "joint-telling",
   "metadata": {},
   "outputs": [],
   "source": []
  },
  {
   "cell_type": "code",
   "execution_count": null,
   "id": "false-heater",
   "metadata": {},
   "outputs": [],
   "source": [
    "\n",
    "\n"
   ]
  }
 ],
 "metadata": {
  "kernelspec": {
   "display_name": "Python [conda env:metis] *",
   "language": "python",
   "name": "conda-env-metis-py"
  },
  "language_info": {
   "codemirror_mode": {
    "name": "ipython",
    "version": 3
   },
   "file_extension": ".py",
   "mimetype": "text/x-python",
   "name": "python",
   "nbconvert_exporter": "python",
   "pygments_lexer": "ipython3",
   "version": "3.8.6"
  }
 },
 "nbformat": 4,
 "nbformat_minor": 5
}
