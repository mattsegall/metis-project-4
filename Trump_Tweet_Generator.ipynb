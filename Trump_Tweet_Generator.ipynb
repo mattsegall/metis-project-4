{
 "cells": [
  {
   "cell_type": "code",
   "execution_count": 3,
   "id": "becoming-immigration",
   "metadata": {},
   "outputs": [],
   "source": [
    "import numpy as np\n",
    "import pandas as pd\n",
    "import re\n",
    "import sys\n",
    "from tqdm import tqdm\n"
   ]
  },
  {
   "cell_type": "code",
   "execution_count": 4,
   "id": "japanese-divorce",
   "metadata": {},
   "outputs": [],
   "source": [
    "sys.path.append(\"/Library/Frameworks/Python.framework/Versions/3.9/lib/python3.9/site-packages\")"
   ]
  },
  {
   "cell_type": "code",
   "execution_count": 5,
   "id": "available-regard",
   "metadata": {},
   "outputs": [],
   "source": [
    "from fastai.text import *"
   ]
  },
  {
   "cell_type": "code",
   "execution_count": 6,
   "id": "illegal-forty",
   "metadata": {},
   "outputs": [],
   "source": [
    "#read in data\n",
    "df = pd.read_csv('realdonaldtrump.csv')"
   ]
  },
  {
   "cell_type": "code",
   "execution_count": 7,
   "id": "settled-virtue",
   "metadata": {},
   "outputs": [],
   "source": [
    "#im really only interested in trump tweets after he became a political figure, \n",
    "#so I'm dropping tweets from before he anncounced his canidacy\n",
    "mask = (df['date'] > '2015-06-16')\n",
    "df = df.loc[mask]"
   ]
  },
  {
   "cell_type": "code",
   "execution_count": 8,
   "id": "broke-harvard",
   "metadata": {},
   "outputs": [],
   "source": [
    "#slim down data\n",
    "data = df[\"content\"]\n",
    "data.columns = [\"text\"]\n",
    "train = data\n",
    "\n",
    "train.to_csv(\"./trump_tweet_gen_train.csv\")"
   ]
  },
  {
   "cell_type": "code",
   "execution_count": 9,
   "id": "bulgarian-encoding",
   "metadata": {},
   "outputs": [],
   "source": [
    "def remove_punc(text):\n",
    "    #helper function to remove punctuation\n",
    "    new_text = re.sub(r'[^\\w\\s]', '', text) \n",
    "    return new_text"
   ]
  },
  {
   "cell_type": "code",
   "execution_count": 10,
   "id": "brave-counter",
   "metadata": {},
   "outputs": [
    {
     "name": "stderr",
     "output_type": "stream",
     "text": [
      "/opt/anaconda3/envs/metis/lib/python3.8/site-packages/pandas/core/indexing.py:1636: SettingWithCopyWarning: \n",
      "A value is trying to be set on a copy of a slice from a DataFrame\n",
      "\n",
      "See the caveats in the documentation: https://pandas.pydata.org/pandas-docs/stable/user_guide/indexing.html#returning-a-view-versus-a-copy\n",
      "  self._setitem_single_block(indexer, value, name)\n"
     ]
    }
   ],
   "source": [
    "#removing the punctuation\n",
    "for i in train.index:\n",
    "    train.loc[i] = remove_punc(train.loc[i])"
   ]
  },
  {
   "cell_type": "code",
   "execution_count": 12,
   "id": "sensitive-anxiety",
   "metadata": {},
   "outputs": [
    {
     "data": {
      "text/html": [
       "<div>\n",
       "<style scoped>\n",
       "    .dataframe tbody tr th:only-of-type {\n",
       "        vertical-align: middle;\n",
       "    }\n",
       "\n",
       "    .dataframe tbody tr th {\n",
       "        vertical-align: top;\n",
       "    }\n",
       "\n",
       "    .dataframe thead th {\n",
       "        text-align: right;\n",
       "    }\n",
       "</style>\n",
       "<table border=\"1\" class=\"dataframe\">\n",
       "  <thead>\n",
       "    <tr style=\"text-align: right;\">\n",
       "      <th></th>\n",
       "      <th>content</th>\n",
       "    </tr>\n",
       "  </thead>\n",
       "  <tbody>\n",
       "    <tr>\n",
       "      <th>23278</th>\n",
       "      <td>realJoeMurray Hopefully tomorrow is the day ...</td>\n",
       "    </tr>\n",
       "    <tr>\n",
       "      <th>23279</th>\n",
       "      <td>brentcfritz Today is the day America becomes g...</td>\n",
       "    </tr>\n",
       "    <tr>\n",
       "      <th>23280</th>\n",
       "      <td>insuraider  realDonaldTrump is going to make...</td>\n",
       "    </tr>\n",
       "    <tr>\n",
       "      <th>23281</th>\n",
       "      <td>DONJUBBER  realDonaldTrump Shock the world  ...</td>\n",
       "    </tr>\n",
       "    <tr>\n",
       "      <th>23282</th>\n",
       "      <td>PianoBecca  realDonaldTrump No Amercian real...</td>\n",
       "    </tr>\n",
       "    <tr>\n",
       "      <th>...</th>\n",
       "      <td>...</td>\n",
       "    </tr>\n",
       "    <tr>\n",
       "      <th>43347</th>\n",
       "      <td>Joe Biden was a TOTAL FAILURE in Government He...</td>\n",
       "    </tr>\n",
       "    <tr>\n",
       "      <th>43348</th>\n",
       "      <td>Will be interviewed on  seanhannity tonight at...</td>\n",
       "    </tr>\n",
       "    <tr>\n",
       "      <th>43349</th>\n",
       "      <td>pictwittercom3lm1spbU8X</td>\n",
       "    </tr>\n",
       "    <tr>\n",
       "      <th>43350</th>\n",
       "      <td>pictwittercomvpCE5MadUz</td>\n",
       "    </tr>\n",
       "    <tr>\n",
       "      <th>43351</th>\n",
       "      <td>pictwittercomVLlc0BHW41</td>\n",
       "    </tr>\n",
       "  </tbody>\n",
       "</table>\n",
       "<p>20074 rows × 1 columns</p>\n",
       "</div>"
      ],
      "text/plain": [
       "                                                 content\n",
       "23278    realJoeMurray Hopefully tomorrow is the day ...\n",
       "23279  brentcfritz Today is the day America becomes g...\n",
       "23280    insuraider  realDonaldTrump is going to make...\n",
       "23281    DONJUBBER  realDonaldTrump Shock the world  ...\n",
       "23282    PianoBecca  realDonaldTrump No Amercian real...\n",
       "...                                                  ...\n",
       "43347  Joe Biden was a TOTAL FAILURE in Government He...\n",
       "43348  Will be interviewed on  seanhannity tonight at...\n",
       "43349                            pictwittercom3lm1spbU8X\n",
       "43350                            pictwittercomvpCE5MadUz\n",
       "43351                            pictwittercomVLlc0BHW41\n",
       "\n",
       "[20074 rows x 1 columns]"
      ]
     },
     "execution_count": 12,
     "metadata": {},
     "output_type": "execute_result"
    }
   ],
   "source": [
    "train = pd.DataFrame(train)\n",
    "train"
   ]
  },
  {
   "cell_type": "code",
   "execution_count": 13,
   "id": "supposed-diary",
   "metadata": {},
   "outputs": [
    {
     "data": {
      "text/html": [],
      "text/plain": [
       "<IPython.core.display.HTML object>"
      ]
     },
     "metadata": {},
     "output_type": "display_data"
    },
    {
     "name": "stderr",
     "output_type": "stream",
     "text": [
      "/Library/Frameworks/Python.framework/Versions/3.9/lib/python3.9/site-packages/fastai/core.py:302: VisibleDeprecationWarning: Creating an ndarray from ragged nested sequences (which is a list-or-tuple of lists-or-tuples-or ndarrays with different lengths or shapes) is deprecated. If you meant to do this, you must specify 'dtype=object' when creating the ndarray\n",
      "  return np.array(a, dtype=dtype, **kwargs)\n"
     ]
    },
    {
     "data": {
      "text/html": [],
      "text/plain": [
       "<IPython.core.display.HTML object>"
      ]
     },
     "metadata": {},
     "output_type": "display_data"
    }
   ],
   "source": [
    "#create databunch\n",
    "data = (TextList.from_df(train, cols='content')\n",
    "                .split_by_rand_pct(0.1)\n",
    "                .label_for_lm()  \n",
    "                .databunch(bs=48))"
   ]
  },
  {
   "cell_type": "code",
   "execution_count": 33,
   "id": "critical-korean",
   "metadata": {},
   "outputs": [
    {
     "data": {
      "text/html": [
       "\n",
       "    <div>\n",
       "        <style>\n",
       "            /* Turns off some styling */\n",
       "            progress {\n",
       "                /* gets rid of default border in Firefox and Opera. */\n",
       "                border: none;\n",
       "                /* Needs to be in here for Safari polyfill so background images work as expected. */\n",
       "                background-size: auto;\n",
       "            }\n",
       "            .progress-bar-interrupted, .progress-bar-interrupted::-webkit-progress-bar {\n",
       "                background: #F44336;\n",
       "            }\n",
       "        </style>\n",
       "      <progress value='0' class='' max='1' style='width:300px; height:20px; vertical-align: middle;'></progress>\n",
       "      0.00% [0/1 00:00<00:00]\n",
       "    </div>\n",
       "    \n",
       "<table border=\"1\" class=\"dataframe\">\n",
       "  <thead>\n",
       "    <tr style=\"text-align: left;\">\n",
       "      <th>epoch</th>\n",
       "      <th>train_loss</th>\n",
       "      <th>valid_loss</th>\n",
       "      <th>accuracy</th>\n",
       "      <th>time</th>\n",
       "    </tr>\n",
       "  </thead>\n",
       "  <tbody>\n",
       "  </tbody>\n",
       "</table><p>\n",
       "\n",
       "    <div>\n",
       "        <style>\n",
       "            /* Turns off some styling */\n",
       "            progress {\n",
       "                /* gets rid of default border in Firefox and Opera. */\n",
       "                border: none;\n",
       "                /* Needs to be in here for Safari polyfill so background images work as expected. */\n",
       "                background-size: auto;\n",
       "            }\n",
       "            .progress-bar-interrupted, .progress-bar-interrupted::-webkit-progress-bar {\n",
       "                background: #F44336;\n",
       "            }\n",
       "        </style>\n",
       "      <progress value='99' class='' max='163' style='width:300px; height:20px; vertical-align: middle;'></progress>\n",
       "      60.74% [99/163 05:07<03:18 9.3918]\n",
       "    </div>\n",
       "    "
      ],
      "text/plain": [
       "<IPython.core.display.HTML object>"
      ]
     },
     "metadata": {},
     "output_type": "display_data"
    },
    {
     "name": "stdout",
     "output_type": "stream",
     "text": [
      "LR Finder is complete, type {learner_name}.recorder.plot() to see the graph.\n"
     ]
    },
    {
     "data": {
      "image/png": "[encoded data removed]",
      "text/plain": [
       "<Figure size 432x288 with 1 Axes>"
      ]
     },
     "metadata": {
      "needs_background": "light"
     },
     "output_type": "display_data"
    }
   ],
   "source": [
    "#instantiate model\n",
    "model = language_model_learner(data, AWD_LSTM, drop_mult=0.1, model_dir = '/Users/user/desktop/metis/projects/metis-project-4/tweet_generator_model')\n",
    "\n",
    "#find learning rate\n",
    "model.lr_find()\n",
    "\n",
    "#use LR at steepest point (re-ran just to show plot)\n",
    "model.recorder.plot()"
   ]
  },
  {
   "cell_type": "code",
   "execution_count": 35,
   "id": "pointed-writing",
   "metadata": {},
   "outputs": [
    {
     "data": {
      "text/html": [
       "<table border=\"1\" class=\"dataframe\">\n",
       "  <thead>\n",
       "    <tr style=\"text-align: left;\">\n",
       "      <th>epoch</th>\n",
       "      <th>train_loss</th>\n",
       "      <th>valid_loss</th>\n",
       "      <th>accuracy</th>\n",
       "      <th>time</th>\n",
       "    </tr>\n",
       "  </thead>\n",
       "  <tbody>\n",
       "    <tr>\n",
       "      <td>0</td>\n",
       "      <td>4.084717</td>\n",
       "      <td>3.889917</td>\n",
       "      <td>0.301723</td>\n",
       "      <td>07:54</td>\n",
       "    </tr>\n",
       "  </tbody>\n",
       "</table>"
      ],
      "text/plain": [
       "<IPython.core.display.HTML object>"
      ]
     },
     "metadata": {},
     "output_type": "display_data"
    }
   ],
   "source": [
    "# Fit the model with optimal learning rate\n",
    "model.fit_one_cycle(1, 1e-1, moms=(0.8,0.7))"
   ]
  },
  {
   "cell_type": "code",
   "execution_count": 17,
   "id": "marked-appreciation",
   "metadata": {},
   "outputs": [
    {
     "name": "stdout",
     "output_type": "stream",
     "text": [
      "I think CNN is not a bad guy It is true CNN and Fake News Media is looking at\n"
     ]
    }
   ],
   "source": [
    "#test model on some fun prompts\n",
    "print(model.predict(\"I think CNN is\", 20, temperature=0.75))"
   ]
  },
  {
   "cell_type": "code",
   "execution_count": 18,
   "id": "charged-auction",
   "metadata": {},
   "outputs": [
    {
     "name": "stdout",
     "output_type": "stream",
     "text": [
      "I think Fox News is a joke and its that is a joke xxbos The story is about the American Flag\n"
     ]
    }
   ],
   "source": [
    "print(model.predict(\"I think Fox News is\", 20, temperature=0.75))"
   ]
  },
  {
   "cell_type": "code",
   "execution_count": 19,
   "id": "higher-string",
   "metadata": {},
   "outputs": [
    {
     "name": "stdout",
     "output_type": "stream",
     "text": [
      "Russia has a great impact on our country xxbos The Russian Witch Hunt continues for years and has\n"
     ]
    }
   ],
   "source": [
    "print(model.predict(\"Russia has\", 20, temperature=0.75))"
   ]
  },
  {
   "cell_type": "code",
   "execution_count": 20,
   "id": "thirty-mistake",
   "metadata": {},
   "outputs": [
    {
     "name": "stdout",
     "output_type": "stream",
     "text": [
      "Mueller Report is a virtual Mueller Report that is Mueller Report and other thought positions It is\n"
     ]
    }
   ],
   "source": [
    "print(model.predict(\"Mueller Report\", 20, temperature=0.75))"
   ]
  },
  {
   "cell_type": "code",
   "execution_count": 21,
   "id": "mexican-fortune",
   "metadata": {},
   "outputs": [
    {
     "name": "stdout",
     "output_type": "stream",
     "text": [
      "Impeachment is one of the greatest political expenses in the history of the United States This is the\n"
     ]
    }
   ],
   "source": [
    "print(model.predict(\"Impeachment\", 20, temperature=0.75))"
   ]
  },
  {
   "cell_type": "code",
   "execution_count": 22,
   "id": "artistic-evening",
   "metadata": {},
   "outputs": [
    {
     "name": "stdout",
     "output_type": "stream",
     "text": [
      "COVID is a  Foreign Intelligence Committee reporter who speaks about all of Hillary s campaign and the President\n"
     ]
    }
   ],
   "source": [
    "print(model.predict(\"COVID is a \", 20, temperature=0.75))"
   ]
  },
  {
   "cell_type": "code",
   "execution_count": 25,
   "id": "academic-circle",
   "metadata": {},
   "outputs": [],
   "source": [
    "import pickle"
   ]
  },
  {
   "cell_type": "code",
   "execution_count": 31,
   "id": "sonic-shipping",
   "metadata": {},
   "outputs": [],
   "source": [
    "# save the model to disk\n",
    "model.export('trump_tweet_gen.pkl')"
   ]
  }
 ],
 "metadata": {
  "kernelspec": {
   "display_name": "Python [conda env:metis] *",
   "language": "python",
   "name": "conda-env-metis-py"
  },
  "language_info": {
   "codemirror_mode": {
    "name": "ipython",
    "version": 3
   },
   "file_extension": ".py",
   "mimetype": "text/x-python",
   "name": "python",
   "nbconvert_exporter": "python",
   "pygments_lexer": "ipython3",
   "version": "3.8.6"
  }
 },
 "nbformat": 4,
 "nbformat_minor": 5
}
